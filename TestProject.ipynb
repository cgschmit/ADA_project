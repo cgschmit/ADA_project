{
 "cells": [
  {
   "cell_type": "markdown",
   "metadata": {},
   "source": [
    "Give the average sentiment PER CANTON or per city (more precise is imposible)"
   ]
  },
  {
   "cell_type": "code",
   "execution_count": 1,
   "metadata": {
    "collapsed": true
   },
   "outputs": [],
   "source": [
    "import numpy as np\n",
    "import pandas as pd"
   ]
  },
  {
   "cell_type": "code",
   "execution_count": 10,
   "metadata": {
    "collapsed": false
   },
   "outputs": [],
   "source": [
    "insta=pd.read_json(\"harvest3r_instagram_data_12-01_0.json\");\n",
    "twitter=pd.read_json(\"harvest3r_twitter_data_12-01_0.json\");"
   ]
  },
  {
   "cell_type": "code",
   "execution_count": 48,
   "metadata": {
    "collapsed": false
   },
   "outputs": [
    {
     "data": {
      "text/plain": [
       "{'author_avatar_img': 'https://pbs.twimg.com/profile_images/539163907437248513/A9twlFRN_bigger.jpeg',\n",
       " 'author_gender': 'UNKNOWN',\n",
       " 'author_link': 'https://twitter.com/frausenn',\n",
       " 'author_name': 'Frau Senn',\n",
       " 'bucket': 1452619500070,\n",
       " 'canonical': 'https://twitter.com/frausenn/status/686962375145164801',\n",
       " 'date_found': '2016-01-12T17:26:32Z',\n",
       " 'domain': 'twitter.com',\n",
       " 'hashcode': 'A3JQNBSWThhoKYXCsEeX8mr21qY',\n",
       " 'index_method': 'SOURCE_TASK_COMPOSITE',\n",
       " 'lang': 'de',\n",
       " 'links': ['https://t.co/XXHKCpM7nn'],\n",
       " 'main': 'Baloo und ich sind bereit für den Feierabend. pic.twitter.com/XXHKCpM7nn',\n",
       " 'main_checksum': 'BPQcuf2P8bO0Xrzd7CnCGOK_CNE',\n",
       " 'main_format': 'TEXT',\n",
       " 'main_length': 72,\n",
       " 'permalink': 'https://twitter.com/frausenn/status/686962375145164801',\n",
       " 'published': '2016-01-12T17:26:08Z',\n",
       " 'resource': 'https://twitter.com/frausenn/status/686962375145164801',\n",
       " 'sentiment': 'NEUTRAL',\n",
       " 'sequence': 1452619592000013785,\n",
       " 'sequence_range': 97670,\n",
       " 'site': 'twitter.com',\n",
       " 'source_content_checksum': 'tzsMz2xTrIkHyLE3bfnE_U_IO7s',\n",
       " 'source_content_length': 271685,\n",
       " 'source_created': '2012-11-01T00:00:00Z',\n",
       " 'source_date_found': '2015-12-25T19:05:50Z',\n",
       " 'source_description': '<p>F&uuml;r Sie immer noch du! --- Frau Senn ist Texterin, Autorin, Musikjournalistin und Wirtschaftslehrerin. Heimweh-Freaktalerin. Politisch: quadratisch.</p>',\n",
       " 'source_favicon_height': 0,\n",
       " 'source_favicon_width': 0,\n",
       " 'source_favorites': 4318,\n",
       " 'source_followers': 1087,\n",
       " 'source_following': 1115,\n",
       " 'source_handle': 'frausenn',\n",
       " 'source_hashcode': 'LAk-Ftm3h_cncO5fdgZ9zi_rXlA',\n",
       " 'source_http_status': 200,\n",
       " 'source_image_height': 0,\n",
       " 'source_image_src': 'https://pbs.twimg.com/profile_images/539163907437248513/A9twlFRN_400x400.jpeg',\n",
       " 'source_image_width': 0,\n",
       " 'source_last_posted': '2014-11-24T19:34:18Z',\n",
       " 'source_last_published': '2015-12-25T19:05:50Z',\n",
       " 'source_last_updated': '2015-12-25T19:05:50Z',\n",
       " 'source_likes': 0,\n",
       " 'source_link': 'https://twitter.com/frausenn',\n",
       " 'source_location': 'Hochdorf',\n",
       " 'source_parsed_posts': 0,\n",
       " 'source_parsed_posts_max': 0,\n",
       " 'source_publisher_type': 'MICROBLOG',\n",
       " 'source_resource': 'https://twitter.com/frausenn',\n",
       " 'source_setting_author_policy': 'DEFAULT',\n",
       " 'source_setting_index_strategy': 'DEFAULT',\n",
       " 'source_setting_update_strategy': 'CYCLICAL',\n",
       " 'source_spam_probability': 0.0,\n",
       " 'source_title': 'Frau Senn',\n",
       " 'source_update_interval': 3600000,\n",
       " 'source_user_interactions': 0,\n",
       " 'source_verified': False,\n",
       " 'type': 'POST',\n",
       " 'version': '5.1.611'}"
      ]
     },
     "execution_count": 48,
     "metadata": {},
     "output_type": "execute_result"
    }
   ],
   "source": [
    "twitter._source[0]"
   ]
  },
  {
   "cell_type": "code",
   "execution_count": 42,
   "metadata": {
    "collapsed": false
   },
   "outputs": [
    {
     "data": {
      "text/plain": [
       "'미안해요, 선약이 있어서….'"
      ]
     },
     "execution_count": 42,
     "metadata": {},
     "output_type": "execute_result"
    }
   ],
   "source": [
    "twitter._source[6].get('main')"
   ]
  },
  {
   "cell_type": "code",
   "execution_count": 61,
   "metadata": {
    "collapsed": false
   },
   "outputs": [],
   "source": [
    "import nltk\n",
    "from nltk.tokenize import sent_tokenize, word_tokenize\n",
    "from nltk.corpus import stopwords\n",
    "from langdetect import detect\n",
    "from nltk.stem import PorterStemmer"
   ]
  },
  {
   "cell_type": "code",
   "execution_count": 71,
   "metadata": {
    "collapsed": false
   },
   "outputs": [
    {
     "name": "stdout",
     "output_type": "stream",
     "text": [
      "['Baloo', 'bereit', 'Feierabend', '.', 'pic.twitter.com/XXHKCpM7nn']\n",
      "['Vierter', 'Platz', 'Wendy', 'Holdener', 'Slalom', 'Flachau', '.', 'http', ':', '//www.bote.ch', 'pic.twitter.com/1gAyQtnfrR']\n",
      "['#', 'TagderBildung', 'Kanton', 'Zürich', '.', 'Da', 'freue', 'besonders', ',', '400', 'Gymnasiasten', 'Winterthur', 'aufzutreten', '...', 'pic.twitter.com/e4L3yx4Jyq']\n",
      "['10', 'must-download', 'Google', 'Chrome', 'add-ons', 'surfing', 'web', 'http', ':', '//ti.me/1mQEDk9', 'vía', '@', 'Techland']\n",
      "['Das', 'Internet', 'Realtime', '!', 'Lasst', 'Seite', 'mal', '10', 'Minuten', 'offen', 'schaut', '!', 'Ist', 'echt', 'spannend', ',', 'abgeht', '!', 'http', ':', '//rros.ch/1OfLSeM']\n",
      "['Die', 'Strecke', 'Täsch-Zermatt', 'ab', '09.30', 'Uhr', 'wegen', 'Lawinengefahr', 'weiteres', 'gesperrt', '.']\n",
      "['@', 'broennimann', '@', 'Ugugu', '@', 'metamythos', 'AZ', '``', 'getrauen', \"''\", 'http', ':', '//m.aargauerzeitung.ch/schweiz/roger-koeppel-verharmlost-nazi-fuehrer-hermann-goering-129979655', '…']\n",
      "['Ich', 'Video', '@', 'YouTube-Playlist', 'hinzugefügt', ':', 'http', ':', '//youtu.be/PHj-dBOCpps', '?', 'a', 'Thomas', 'Anders', '-', 'I', \"'ll\", 'Be', 'Strong', '(', 'with', 'Lyrics', ')']\n",
      "['Nachhilfe', 'Chemie', 'Biologie', 'Physik', 'http', ':', '//www.nachhilfe-chemie-bio.ch/']\n",
      "['Breite', 'Allianz', 'Transithölle', ',', 'Verkehrschaos', 'Sanierungsschwindel', '#', 'Gotthard', '#', 'zweiteRöhreNEIN', 'https', ':', '//www.facebook.com/zweite.roehre.nein/videos/1703417859879209/', '?', 'theater', '…']\n",
      "['@', 'RaiBallaro', 'Mandate', 'Fornero', 'lavorare', 'catena', 'montaggio', 'Fiat', 'fino', '67', 'anni', 'poi', 'vediamo', 'cosa', 'pensa']\n",
      "['@', 'phwampfler', 'Nein', '.', 'Diskriminier', '.', 'persönlichen', 'Gründen', 'wegzuschwatzen', '(', 'müsste', 'mehr', 'zahlen', ')', 'find', \"'huere\", 'schwach', \"'\", '#', 'twoff', '@', 'JustynaGrund']\n",
      "['Guy', 'Sebastian', '-', 'Mama', 'Ai', \"n't\", 'Proud', 'ft.', '2', 'Chainz', '-', 'ListenOnRepeat', 'http', ':', '//listenonrepeat.com/watch/', '?', 'v=z_zXgXbYiHM', '#', 'Guy_Sebastian_-_Mama_Ain_t_Proud_ft._2_Chainz', '…', 'via', '@', 'listenonrepeat..']\n",
      "['Mehrere', 'Tote', 'Explosion', 'Innenstadt', '#', 'Istanbul', ':', 'http', ':', '//www.luzernerzeitung.ch/nachrichten/international/international-sda/Tote-bei-Explosion-in-Touristenviertel', ';', 'art46446,664523', '…']\n"
     ]
    }
   ],
   "source": [
    "#Parsing each Tweet into word\n",
    "for i in range(0,20): #len(twitter) instead of 20\n",
    "    sentence=twitter.iloc[i][\"_source\"];\n",
    "    sentence=sentence.get('main');\n",
    "    \n",
    "    # 1) Get Language of tweet!\n",
    "    \n",
    "    language=detect(sentence);\n",
    "    \n",
    "    if language=='en' or language=='de' or language=='it': #Add the other of language we want manually!\n",
    "        \n",
    "        langDict = {'en': 'english', 'de': 'german', 'it':'italian'} #Add accordingly\n",
    "\n",
    "        # 2) Delete the stop_words (useless ones)\n",
    "        stop_words = set(stopwords.words(langDict[language])) #Replace with \"English\", \"German\", \"French\", \"Arabic\" or whatever.\n",
    "        word_tokens = word_tokenize(sentence)\n",
    "        filtered_sentence = [w for w in word_tokens if not w in stop_words]\n",
    "        filtered_sentence = []\n",
    "        for w in word_tokens:\n",
    "            if w not in stop_words:\n",
    "                filtered_sentence.append(w);\n",
    "        print(filtered_sentence);\n",
    "        \n",
    "        #For lexical understanding, might want to use WordNet in english, Germanet for german and MultiWordNet for Italian or Spanish\n",
    "    "
   ]
  },
  {
   "cell_type": "code",
   "execution_count": 69,
   "metadata": {
    "collapsed": false
   },
   "outputs": [
    {
     "name": "stdout",
     "output_type": "stream",
     "text": [
      "so\n"
     ]
    }
   ],
   "source": [
    "sentence=twitter.iloc[1][\"_source\"];\n",
    "sentence=sentence.get('main');\n",
    "    \n",
    "    # 1) Get Language of tweet!\n",
    "    \n",
    "language=detect(sentence);\n",
    "print(language)"
   ]
  },
  {
   "cell_type": "code",
   "execution_count": null,
   "metadata": {
    "collapsed": true
   },
   "outputs": [],
   "source": []
  }
 ],
 "metadata": {
  "anaconda-cloud": {},
  "kernelspec": {
   "display_name": "Python [Root]",
   "language": "python",
   "name": "Python [Root]"
  },
  "language_info": {
   "codemirror_mode": {
    "name": "ipython",
    "version": 3
   },
   "file_extension": ".py",
   "mimetype": "text/x-python",
   "name": "python",
   "nbconvert_exporter": "python",
   "pygments_lexer": "ipython3",
   "version": "3.5.2"
  }
 },
 "nbformat": 4,
 "nbformat_minor": 0
}
